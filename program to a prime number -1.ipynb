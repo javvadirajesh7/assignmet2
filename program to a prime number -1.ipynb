{
 "cells": [
  {
   "cell_type": "markdown",
   "metadata": {},
   "source": [
    "Check whether it is a prime number or not"
   ]
  },
  {
   "cell_type": "code",
   "execution_count": 3,
   "metadata": {},
   "outputs": [
    {
     "name": "stdout",
     "output_type": "stream",
     "text": [
      "Enter a number : 29\n",
      "29 is a prime number\n"
     ]
    }
   ],
   "source": [
    "Number = int(input(\"Enter a number : \"))\n",
    "\n",
    "Count = 0\n",
    "\n",
    "for i in range(1,Number+1):\n",
    "    \n",
    "    if Number%i == 0 :\n",
    "        \n",
    "        Count = Count +1\n",
    "\n",
    "if ( Count == 2 ) :\n",
    "    \n",
    "    print(Number,\"is a prime number\")\n",
    "\n",
    "else :\n",
    "    \n",
    "    print(Number,\"is not a prime number\")"
   ]
  },
  {
   "cell_type": "code",
   "execution_count": 1,
   "metadata": {},
   "outputs": [],
   "source": [
    "# to print the prime numbers within the range \"assignment 2\""
   ]
  },
  {
   "cell_type": "code",
   "execution_count": 3,
   "metadata": {},
   "outputs": [
    {
     "name": "stdout",
     "output_type": "stream",
     "text": [
      "2\n",
      "3\n",
      "5\n",
      "7\n",
      "11\n",
      "13\n",
      "17\n",
      "19\n",
      "23\n",
      "29\n",
      "31\n",
      "37\n",
      "41\n",
      "43\n",
      "47\n",
      "53\n",
      "59\n",
      "61\n",
      "67\n",
      "71\n",
      "73\n",
      "79\n",
      "83\n",
      "89\n",
      "97\n",
      "101\n",
      "103\n",
      "107\n",
      "109\n",
      "113\n",
      "127\n",
      "131\n",
      "137\n",
      "139\n",
      "149\n",
      "151\n",
      "157\n",
      "163\n",
      "167\n",
      "173\n",
      "179\n",
      "181\n",
      "191\n",
      "193\n",
      "197\n",
      "199\n"
     ]
    }
   ],
   "source": [
    "for n in range(2,200):\n",
    "    \n",
    "    for i in range(2,n):\n",
    "        \n",
    "        if(n%i==0):\n",
    "            \n",
    "            break\n",
    "    else :\n",
    "        \n",
    "        print(n)"
   ]
  },
  {
   "cell_type": "code",
   "execution_count": 7,
   "metadata": {},
   "outputs": [
    {
     "name": "stdout",
     "output_type": "stream",
     "text": [
      "Enter feet = 2345\n",
      "Bring the flight to 1000ft\n"
     ]
    }
   ],
   "source": [
    "##  Assignment 1 \n",
    "\n",
    "feet = int(input(\"Enter feet = \"))\n",
    "\n",
    "if (feet == 1000):\n",
    "    \n",
    "    print(\"Land the plane \")\n",
    "    \n",
    "elif (feet<=5000 ):\n",
    "    \n",
    "    print(\"Bring the flight to 1000ft\")\n",
    "    \n",
    "elif (feet >= 5000):\n",
    "    \n",
    "    print(\"Turn around and try later\")"
   ]
  },
  {
   "cell_type": "code",
   "execution_count": null,
   "metadata": {},
   "outputs": [],
   "source": []
  }
 ],
 "metadata": {
  "kernelspec": {
   "display_name": "Python 3",
   "language": "python",
   "name": "python3"
  },
  "language_info": {
   "codemirror_mode": {
    "name": "ipython",
    "version": 3
   },
   "file_extension": ".py",
   "mimetype": "text/x-python",
   "name": "python",
   "nbconvert_exporter": "python",
   "pygments_lexer": "ipython3",
   "version": "3.6.11"
  }
 },
 "nbformat": 4,
 "nbformat_minor": 4
}
